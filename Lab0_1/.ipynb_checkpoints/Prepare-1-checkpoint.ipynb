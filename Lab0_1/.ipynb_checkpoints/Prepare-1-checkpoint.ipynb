{
 "cells": [
  {
   "cell_type": "markdown",
   "id": "ceb11482-60e8-4958-a059-c1adc93f4a2c",
   "metadata": {},
   "source": [
    "# Setting up julia to work well on this computer\n",
    "\n",
    "Julia needs a lot of storage, using networked storage \n",
    "gives horrible performance"
   ]
  },
  {
   "cell_type": "code",
   "execution_count": null,
   "id": "5b9145dd-2b07-4089-8adc-e87893b75997",
   "metadata": {},
   "outputs": [],
   "source": [
    "%%bash\n",
    "J=~/.julia\n",
    "if [ -L \"${J}\" -a ! -d \"${J}\" ] ; then\n",
    "    P=\"$(realpath -m \"${J}\")\"\n",
    "    echo \"Trying to create ${P}\"\n",
    "    mkdir -p ${P}\n",
    "fi\n",
    "if df -l \"${J}\" >/dev/null 2>&1 ; then\n",
    "    echo \"${J} is on local storage (GOOD)\"\n",
    "elif [ -d \"${J}\" ] ; then\n",
    "    echo \"${J} is on networked storage (SLOW)\"\n",
    "    echo \"Using $(du -shD \"${J}\" | cut -f1) of space \"\n",
    "elif [ ! -e \"${J}\" ] ; then\n",
    "    T=\"/var/tmp/$(id -un)/.julia\"\n",
    "    echo \"${J}\" does not exist, creating it as\n",
    "    echo \"a link to ${T}\"\n",
    "    mkdir -p \"${T}\"\n",
    "    ln -s ${T}\n",
    "else\n",
    "    echo \"${J}\" exists, but is not a directory\n",
    "fi"
   ]
  },
  {
   "cell_type": "markdown",
   "id": "29e5610d-b571-4033-b687-4ff155c6580a",
   "metadata": {},
   "source": [
    "Now we need to setup julia registries"
   ]
  },
  {
   "cell_type": "code",
   "execution_count": null,
   "id": "cbb78000-f3ee-4b28-9c1f-a50dd50e679b",
   "metadata": {},
   "outputs": [],
   "source": [
    "%%bash\n",
    "julia -e '\n",
    "import Pkg\n",
    "Pkg.Registry.add(\"General\")\n",
    "Pkg.Registry.update()\n",
    "Pkg.Registry.status()\n",
    "Pkg.add(\"IJulia\")\n",
    "Pkg.add(\"FurutaPendulums\")\n",
    "Pkg.add(\"Plots\")\n",
    "Pkg.add(\"DelimitedFiles\")\n",
    "Pkg.add(\"ControlSystems\")\n",
    "Pkg.add(\"LinearAlgebra\")\n",
    "Pkg.add(\"DifferentialEquations\")\n",
    "'"
   ]
  }
 ],
 "metadata": {
  "kernelspec": {
   "display_name": "Python 3 (ipykernel)",
   "language": "python",
   "name": "python3"
  },
  "language_info": {
   "codemirror_mode": {
    "name": "ipython",
    "version": 3
   },
   "file_extension": ".py",
   "mimetype": "text/x-python",
   "name": "python",
   "nbconvert_exporter": "python",
   "pygments_lexer": "ipython3",
   "version": "3.11.5"
  }
 },
 "nbformat": 4,
 "nbformat_minor": 5
}
