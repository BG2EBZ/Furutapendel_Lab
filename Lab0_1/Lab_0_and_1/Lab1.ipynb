{
 "cells": [
  {
   "cell_type": "markdown",
   "metadata": {},
   "source": [
    "# Lab 1: Furuta pendulum measurements and actuation\n",
    "## Background\n",
    "In this series of 3 labs we will control the Furuta pendulum pictured below to swing up its arm and balance it in the upright position.\n",
    "\n",
    "![Furuta Pendulum](img/lab1-furuta.png)\n",
    "\n",
    "Much of machine learning concerns fitting a function to data. An artificial neural network (ANN) is for example a mapping from a an input vector $u$ to an output vector $y$, and can be represented by a (complicated) ordinary function $f:u\\to y$. In an ANN, $f$ is parameterized as a matrix of weights $W$. When the network is trained, the values of weights are adjusted to obtain $f(u;W)\\approx y$ for known data $(u,y)$. A strength of ANNs is that they are very flexible, meaning that they can approximate rather arbitrary mappings. This is also the reason that cross validation is so important to detect over-fitting of data. Particularly, the flexibity of $f$ becomes problematic if the training data is not sufficiently informative. This can be resolved by gathering additional training data. Sometimes this is expensive or even impossible. It is therefore always good to use as much prior knowledge as possible when modelling.\n",
    "\n",
    "The pendulum has a scalar (single-valued) real input $u$, that somehow relates to the angular velocity of its base, $\\dot{\\varphi}$. (The dot is convenient way to denote differentiation with respect to time, for example $\\dot{x}=dx/dt$). We will shortly take a closer look at properties of this input. The pendulum also provides two measurements: the base angle $\\varphi$ and the arm angle $\\theta$. We will take a closer look at them too.\n",
    "\n",
    "Being aspiring machine learning experts, we could now train a neural network to represent the mapping from the input $u$ to the output $y=[\\varphi~\\theta]$. This raises a number of questions:\n",
    "\n",
    "1. How shall we choose the training input u, in order to cover the feature space that we are interested to model?\n",
    "\n",
    "2. What is a good way to validate the model we obtain?\n",
    "\n",
    "3. How can we use the obtained ANN to get closer to our goal of controlling the Furuta pendulum?\n",
    "\n",
    "As we will see in this and the next lab, the Furuta pendulum has properties that enable us to restrict the search for a model to a much narrower class of mapping than ANNs provide, and this will prove useful when approaching the questions above. Incorporating knowledge of such properties into machine learning models is a recent research topic, and in order to get you on board, we will here focus on getting you familiar with \"classical\" modeling and control of dynamical systems, that is a pre-requisite for such composite models.\n",
    "\n",
    "In this first lab, the focus will lie on getting familiar with the Julia programming language, and getting started with experimenting on the physical Furuta pendulum. We will write functions for measuring angles and estimating angular velocies. Finally, we will develop a very simple model for the actuating DC motor. Lab 2 will focus on modelling and simulation, and in Lab 3 we will control the pendulum in the upright position, and also implement and energy-based conrol law that swings it up from its resting position.\n",
    "\n",
    "The labs are all quite open-ended and exploratory. It is strongly encouraged that you experiment outside the boundaries of their manuals, and that you actively seek knowledge online and by interacting with the instructors.\n",
    "\n",
    "**To pass the lab fill all cells marked \"A\" with text or code, and be ready to discuss the content of the lab in a small group during the examination session.**"
   ]
  },
  {
   "cell_type": "markdown",
   "metadata": {},
   "source": [
    "## Getting started\n",
    "First, let us load some code packages into the Julia environment:"
   ]
  },
  {
   "cell_type": "markdown",
   "metadata": {},
   "source": []
  },
  {
   "cell_type": "code",
   "execution_count": 1,
   "metadata": {},
   "outputs": [],
   "source": [
    "using FurutaPendulums, Plots, DelimitedFiles, ControlSystems"
   ]
  },
  {
   "cell_type": "markdown",
   "metadata": {},
   "source": [
    "The FurutaPendulums package defines an interface between Julia and the physical process. To instantiate a pendulum we do "
   ]
  },
  {
   "cell_type": "code",
   "execution_count": 2,
   "metadata": {},
   "outputs": [
    {
     "ename": "ErrorException",
     "evalue": "could not load library \"libmoberg\"\nThe specified module could not be found. ",
     "output_type": "error",
     "traceback": [
      "could not load library \"libmoberg\"\n",
      "The specified module could not be found. \n",
      "\n",
      "Stacktrace:\n",
      " [1] Moberg\n",
      "   @ C:\\Users\\15291\\.julia\\packages\\MobergIO\\m7iBg\\src\\MobergIO.jl:50 [inlined]\n",
      " [2] FurutaPendulum()\n",
      "   @ FurutaPendulums C:\\Users\\15291\\.julia\\packages\\FurutaPendulums\\ATRXR\\src\\physical.jl:3\n",
      " [3] top-level scope\n",
      "   @ c:\\Users\\15291\\Desktop\\lund\\Introduction to MLSC\\Lab\\Lab_0_and_1\\jl_notebook_cell_df34fa98e69747e1a8f8a730347b8e2f_W4sZmlsZQ==.jl:1"
     ]
    }
   ],
   "source": [
    "furuta = FurutaPendulum()"
   ]
  },
  {
   "cell_type": "markdown",
   "metadata": {},
   "source": [
    "We can now send an input command to the Furuta pendulum:"
   ]
  },
  {
   "cell_type": "code",
   "execution_count": 3,
   "metadata": {},
   "outputs": [
    {
     "ename": "UndefVarError",
     "evalue": "UndefVarError: `furuta` not defined",
     "output_type": "error",
     "traceback": [
      "UndefVarError: `furuta` not defined\n",
      "\n",
      "Stacktrace:\n",
      " [1] top-level scope\n",
      "   @ c:\\Users\\15291\\Desktop\\lund\\Introduction to MLSC\\Lab\\Lab_0_and_1\\jl_notebook_cell_df34fa98e69747e1a8f8a730347b8e2f_W6sZmlsZQ==.jl:2"
     ]
    }
   ],
   "source": [
    "u=2.0\n",
    "control(furuta,u)"
   ]
  },
  {
   "cell_type": "markdown",
   "metadata": {},
   "source": [
    "The pendulum should start spinning, and will stop after a while (5 seconds) due to a built in time-out. Without the timeout it would spin forever, or at least until it received a control command that stopped it.\n",
    "\n",
    "At some point during the labs you will likely also see the pendulum move fast, then suddenly stop. This is most likely due to a built-in energy threashold, that cuts actuation of the motor if the kinetic energy of the the moving parts gets too high. This mechanism is in place to protect you and the equipment. It should not pose a problem during normal operation."
   ]
  },
  {
   "cell_type": "markdown",
   "metadata": {},
   "source": [
    "Next, let us define a control signal trajectory:"
   ]
  },
  {
   "cell_type": "code",
   "execution_count": 3,
   "metadata": {},
   "outputs": [
    {
     "ename": "UndefVarError",
     "evalue": "UndefVarError: `furuta` not defined",
     "output_type": "error",
     "traceback": [
      "UndefVarError: `furuta` not defined\n",
      "\n",
      "Stacktrace:\n",
      " [1] top-level scope\n",
      "   @ c:\\Users\\15291\\Desktop\\lund\\Introduction to MLSC\\Lab\\Lab_0_and_1\\jl_notebook_cell_df34fa98e69747e1a8f8a730347b8e2f_X12sZmlsZQ==.jl:2"
     ]
    }
   ],
   "source": [
    "h=1.0 # This is the update period (often called sampling), in seconds\n",
    "last_time=periodic_wait(furuta,0.0,0.0)\n",
    "for k=1:5\n",
    "    if iseven(k)\n",
    "        u=2.5\n",
    "    else\n",
    "        u=0.0\n",
    "    end\n",
    "    control(furuta,u)\n",
    "    last_time=periodic_wait(furuta,last_time,h)\n",
    "end"
   ]
  },
  {
   "cell_type": "markdown",
   "metadata": {},
   "source": [
    "Let us digest the code block above. First we declare a period `h` that tells us for how many seconds at a time (the sampling period) the input `u` should be held constant. Then we declare a start time. To see the numeric value of this time, type:"
   ]
  },
  {
   "cell_type": "code",
   "execution_count": null,
   "metadata": {},
   "outputs": [],
   "source": [
    "@show periodic_wait(furuta,0.0,0.0)"
   ]
  },
  {
   "cell_type": "markdown",
   "metadata": {},
   "source": [
    "The large number is the number of seconds since the beginning of 1970, also known as the UNIX epoch. Subsequent calls of ```periodic_wait``` will tell the function to wait on the ```furuta``` object until ```h```seconds has passed since the time stored in ```last_time```.\n",
    "\n",
    "Then there is a ```for``` loop that runs for each integer value in the range ```k=1:5```"
   ]
  },
  {
   "cell_type": "markdown",
   "metadata": {},
   "source": [
    "Q: What happens in the body of the `for` loop? (Type your answer in the answer cell below.)"
   ]
  },
  {
   "cell_type": "markdown",
   "metadata": {},
   "source": [
    "A: The loop variable k goes from 1 to 5, and in each iteration the code checks whether k is an even number. If so, the control variable u is set to 2.5; otherwise, u is set to 0.0."
   ]
  },
  {
   "cell_type": "markdown",
   "metadata": {
    "tags": []
   },
   "source": [
    "Q: Now write and execute an experiment of 3 s duration, where the input signal is $u(t)=2.5 \\sin(3.0t)$ and the sampling period is 0.01 s."
   ]
  },
  {
   "cell_type": "code",
   "execution_count": null,
   "metadata": {},
   "outputs": [],
   "source": [
    "#A:(Modify the following code in this cell)\n",
    "\n",
    "h=0.01 # This is the update period (often called sampling), in seconds\n",
    "T=3 # Total time\n",
    "time=periodic_wait(furuta,0.0,0.0)\n",
    "for k=0:round(Int, T / h)\n",
    "    u=2.5 * sin(3.0 * t) # input signal\n",
    "    control(furuta,u)\n",
    "    time=periodic_wait(furuta,time,h)\n",
    "end"
   ]
  },
  {
   "cell_type": "markdown",
   "metadata": {},
   "source": [
    "## Angle measurements\n",
    "In the experiments above, we can see that the pendulum device is moving. But to get a model, we will need some quantified measurements. The code below actuates the device and meausures the base angle $\\varphi$. Take a close look and make sure you understand what it does."
   ]
  },
  {
   "cell_type": "markdown",
   "metadata": {
    "tags": []
   },
   "source": [
    "#### Base Spinning Experiment"
   ]
  },
  {
   "cell_type": "code",
   "execution_count": null,
   "metadata": {},
   "outputs": [],
   "source": [
    "h=0.01 # 10 ms\n",
    "start_time=last_time=periodic_wait(furuta,0.0,0.0)\n",
    "\n",
    "φ_raws=Float64[] # Array for storing measurements\n",
    "ts=Float64[]\n",
    "\n",
    "u=2.5\n",
    "\n",
    "for k=1:round(5/h)\n",
    "    control(furuta,u)\n",
    "    last_time=periodic_wait(furuta,last_time,h)\n",
    "    φ_raw=read(furuta.base_encoder)\n",
    "    φ_raws=[φ_raws; φ_raw]\n",
    "    ts=[ts; last_time-start_time] \n",
    "    #push!(ts, last_time-start_time) # this is an alternative way of adding new element to an array, so you don't need to type \"ts\" two times\n",
    "end\n",
    "control(furuta,0.0) # It stops after 5 seconds, but we might as well stop it when we are done"
   ]
  },
  {
   "cell_type": "markdown",
   "metadata": {},
   "source": [
    "The measurement of $\\varphi$ is obtained from a rotary encoder, providing a counter that increments (or decrements, depending on the direction of rotation) its value at evenly spaced angular intervals. The resolution of a rotary encoder is the number of such increments per full revolution. Let us plot the base angle as a function of time:"
   ]
  },
  {
   "cell_type": "code",
   "execution_count": null,
   "metadata": {},
   "outputs": [],
   "source": [
    "plot(ts, φ_raws)"
   ]
  },
  {
   "cell_type": "markdown",
   "metadata": {},
   "source": [
    "Q: Can you tell from the figure how many full revolutions the base underwent during the experiment? And what approximately is the resolution of the base encoder?"
   ]
  },
  {
   "cell_type": "markdown",
   "metadata": {},
   "source": [
    "A: "
   ]
  },
  {
   "cell_type": "markdown",
   "metadata": {},
   "source": []
  },
  {
   "cell_type": "markdown",
   "metadata": {},
   "source": [
    "Q: Next compute the resolution of the encoder directly from the array `φ_raws`. "
   ]
  },
  {
   "cell_type": "code",
   "execution_count": null,
   "metadata": {},
   "outputs": [],
   "source": [
    "# A:\n",
    "# Hint: check out the functions minimum/maximum\n",
    "differences = diff(φ_raws)\n",
    "min_diff = minimum(abs.(differences))\n",
    "println(\"Estimated encoder resolution: \", min_diff, \" radians per step\")"
   ]
  },
  {
   "cell_type": "markdown",
   "metadata": {},
   "source": [
    "Q: The encoder uses a number of bits to store its value. Based on the resolution above, how many bits would you assume the encoder uses?"
   ]
  },
  {
   "cell_type": "code",
   "execution_count": null,
   "metadata": {},
   "outputs": [],
   "source": [
    "# A:\n",
    "# Hint: The 2-logaritm is called log2 in Julia. log2 returns a float value. ceil(Int, x) can be used to find nearest integer that is greater than x.\n",
    "\n",
    "resolution = min_diff \n",
    "\n",
    "n_bits = log2(2π / resolution)\n",
    "\n",
    "println(\"Estimated number of bits used by the encoder: \", round(n_bits))\n"
   ]
  },
  {
   "cell_type": "markdown",
   "metadata": {},
   "source": [
    "Q: Another thing that you might already have noticed in the figure above is that the encoder does not always cycle (jump) to 0, but rather at some varying small values. Can you explain this? Hint: Try to run the encoder experiment with some different sample periods, both smaller and larger than the nominal `h=0.01` and observe how the quantization effects change."
   ]
  },
  {
   "cell_type": "markdown",
   "metadata": {},
   "source": [
    "A:"
   ]
  },
  {
   "cell_type": "markdown",
   "metadata": {},
   "source": [
    "One conclusion from the recent experiment should be that as long as the sampling is fast and the encoder resolution is high, it is fair to approximate the encoder signal as being real rather than integer-valued. Ensuring these conditions, we can then obtain an angle in radians through dividing `φ_raws` by the resolution and multiplying by $2\\pi$. This is particularly useful since different hardware versions of the pendulums use encoders of different resolutions. To access angles in radians, we can use:"
   ]
  },
  {
   "cell_type": "code",
   "execution_count": null,
   "metadata": {},
   "outputs": [],
   "source": [
    "@show read(furuta.base_angle); # Here we use @show to get 2 printouts from the same code cell\n",
    "@show read(furuta.arm_angle);"
   ]
  },
  {
   "cell_type": "markdown",
   "metadata": {},
   "source": [
    "Re-run the base spinning experiment using the angle instead, `read(furuta.base_angle)`, and verify that it behaves as you would expect it to."
   ]
  },
  {
   "cell_type": "markdown",
   "metadata": {},
   "source": [
    "Q: Someone argues that the relation between the control signal $u$ and the measurement signal $y=[\\varphi~\\theta]^\\top$ is static, rather than dynamic, that is, $\\varphi(u_1)=\\varphi(u_2)$ if $u_1=u_2$. Run the controller with some constant (non-zero) signal $u$ and see if $\\varphi$ and $\\theta$ are constant. Plot the results of an experiment. Show that the relation is in fact dynamic."
   ]
  },
  {
   "cell_type": "markdown",
   "metadata": {},
   "source": [
    "A:"
   ]
  },
  {
   "cell_type": "code",
   "execution_count": null,
   "metadata": {},
   "outputs": [],
   "source": [
    "# A: (experiment and plot)\n",
    "using Plots\n",
    "\n",
    "h = 0.01  # 时间步长，10 毫秒\n",
    "u = 2.5   # 非零的恒定控制信号\n",
    "T = 5.0   # 实验总时间，5 秒\n",
    "steps = round(Int, T/h)  # 实验步骤数\n",
    "\n",
    "# 初始化存储角度和时间的数组\n",
    "φ_raws = Float64[]  # 用于存储 φ 值\n",
    "θ_raws = Float64[]  # 用于存储 θ 值\n",
    "ts = Float64[]      # 用于存储时间戳\n",
    "\n",
    "# 初始化时间\n",
    "start_time = last_time = periodic_wait(furuta, 0.0, 0.0)\n",
    "\n",
    "# 运行实验，应用恒定的控制信号 u\n",
    "for k in 1:steps\n",
    "    control(furuta, u)  # 应用控制信号 u\n",
    "    \n",
    "    # 获取当前时间并等待同步\n",
    "    last_time = periodic_wait(furuta, last_time, h)\n",
    "    \n",
    "    # 读取 φ 和 θ\n",
    "    φ_raw = read(furuta.base_encoder)\n",
    "    θ_raw = read(furuta.pendulum_encoder)\n",
    "    \n",
    "    # 存储 φ 和 θ 以及时间\n",
    "    push!(φ_raws, φ_raw)\n",
    "    push!(θ_raws, θ_raw)\n",
    "    push!(ts, last_time - start_time)\n",
    "end\n",
    "\n",
    "# 停止控制信号\n",
    "control(furuta, 0.0)\n",
    "\n",
    "# 绘图 φ 和 θ 随时间的变化\n",
    "plot(ts, φ_raws, label=\"φ (Base angle)\", xlabel=\"Time (s)\", ylabel=\"Angle (rad)\", title=\"φ and θ vs Time under constant u\", legend=:topright)\n",
    "plot!(ts, θ_raws, label=\"θ (Pendulum angle)\")\n",
    "\n",
    "# 显示绘图\n",
    "display(plot)\n"
   ]
  },
  {
   "cell_type": "markdown",
   "metadata": {},
   "source": [
    "## Angular velocity estimates\n",
    "The fact that $y$ and $u$ relate dynamically means that it is not sufficient to know $u(t)$ for times $t\\geq 0$ to uniquely determine $y$, and it is likely some variant of this that you have used in your answer above.\n",
    "\n",
    "However, we will see in lab 2 that the dynamics can be expressed on state space form as\n",
    "$$\n",
    "\\begin{align}\n",
    "\\dot{x} &= f(x,u),\\\\\n",
    "y &= g(x),\n",
    "\\end{align}\n",
    "$$\n",
    "where $x$ is a vector representing the (internal) state of the system.\n",
    "\n",
    "Certainly, the evolution of $y(t)$ will differ depending on the vales of $\\varphi(0)$ and $\\theta(0)$. But these two elements are not alone sufficient to capture the state of the pendulum. For instance, the evolution of the base angle $\\varphi$ with $u=0$ will differ depending on if the experiment starts with the base in stationarity ($\\dot{\\varphi}=0$) or in rotation ($\\dot{\\varphi}\\neq 0$). So at least we need to add $\\dot{\\varphi}$ and $\\dot{\\theta}$ as elements to our state vector:\n",
    "\n",
    "$$\n",
    "x=\n",
    "\\begin{bmatrix}\n",
    "\\varphi\\\\\n",
    "\\dot{\\varphi}\\\\\n",
    "\\theta\\\\\n",
    "\\dot{\\theta}\n",
    "\\end{bmatrix}\n",
    "$$\n",
    "\n",
    "Later, we will see that these four variables are not only necessary, but also sufficient for describing the basic dynamics of the pendulum."
   ]
  },
  {
   "cell_type": "markdown",
   "metadata": {},
   "source": [
    "But the encoders only give us $\\varphi$ and $\\theta$. How can we measure their time derivatives? The answer is: we cannot. \n",
    "There are sensors for measuring angles or angular accelerations, but none for *directly* measuring (angular) velocity. \n",
    "Angular velocities instead need to be computed as estimates based on measurements from one of the existing sensors. In our case, we can use the angle measurements as a basis for estimating angular velocitites."
   ]
  },
  {
   "cell_type": "markdown",
   "metadata": {},
   "source": [
    "The definition of the derivative inspires a simple way to estimate $\\dot{\\varphi}$:\n",
    "\n",
    "$$\n",
    "\\dot{\\varphi}(t)=\\frac{d\\varphi(t)}{dt}=\\lim_{h\\to 0}\\frac{\\varphi(t)-\\varphi(t-h)}{h}.\n",
    "$$\n",
    "\n",
    "Instead of taking the limit $h\\to 0$ we use a finite but small value. In our case the smallest possible value is the time between two consecutive samples, that we have conveniently already denoted by `h`."
   ]
  },
  {
   "cell_type": "markdown",
   "metadata": {},
   "source": [
    "Q: The following code records $\\varphi$, $\\theta$ into vectors with sampling time $h=0.001$ for 5 seconds. For this, it uses `read(furuta.base_angle)` and `read(furuta.arm_angle)` to read the measurements. Then compute and plot finite-difference estimates $\\dot{\\varphi}$ and $\\dot{\\theta}$ from the recorded values. Be careful to handle the discontinuety that occurs once per full revolution of $\\varphi$ and $\\theta$, respectively."
   ]
  },
  {
   "cell_type": "code",
   "execution_count": null,
   "metadata": {},
   "outputs": [],
   "source": [
    "#A:\n",
    "h=0.001 \n",
    "start_time=last_time=periodic_wait(furuta,0.0,0.0)\n",
    "\n",
    "φs=Float64[]\n",
    "θs=Float64[]\n",
    "ts=Float64[]\n",
    "u=2.0\n",
    "control(furuta,u)\n",
    "\n",
    "for k=1:round(5/h)\n",
    "    last_time=periodic_wait(furuta,last_time,h)\n",
    "    push!(φs, read(furuta.base_angle))\n",
    "    push!(θs, read(furuta.arm_angle))\n",
    "    push!(ts, last_time-start_time)\n",
    "end\n",
    "\n",
    "φdots = [0.0]\n",
    "θdots = [0.0]\n",
    "\n",
    "# Your code starts here\n",
    "# 1. Computes φdot and θdot from φs and θs. \n",
    "# Use, for example, abs(φs[i]-φ[i-1]) > pi to detect discontinuity in measurements: φs and θs may jump from 0 to 2π, or from 2π to 0. \n",
    "# Think about how to calculate derivative if a discontinutiy is detected. Hint, if φs[i] > φs[i-1], φdot = (φs[i]-2pi-φs[i-1])/h \n",
    "\n",
    "# Compute φdot and θdot\n",
    "for i in 2:length(φs)\n",
    "    # Detect discontinuity for φs\n",
    "    if abs(φs[i] - φs[i-1]) > π\n",
    "        if φs[i] > φs[i-1]\n",
    "            φdot = (φs[i] - (φs[i-1] + 2π)) / h\n",
    "        else\n",
    "            φdot = (φs[i] + 2π - φs[i-1]) / h\n",
    "        end\n",
    "    else\n",
    "        φdot = (φs[i] - φs[i-1]) / h\n",
    "    end\n",
    "    push!(φdots, φdot)\n",
    "\n",
    "    # Detect discontinuity for θs\n",
    "    if abs(θs[i] - θs[i-1]) > π\n",
    "        if θs[i] > θs[i-1]\n",
    "            θdot = (θs[i] - (θs[i-1] + 2π)) / h\n",
    "        else\n",
    "            θdot = (θs[i] + 2π - θs[i-1]) / h\n",
    "        end\n",
    "    else\n",
    "        θdot = (θs[i] - θs[i-1]) / h\n",
    "    end\n",
    "    push!(θdots, θdot)\n",
    "end\n",
    "\n",
    "# Time vector for plotting\n",
    "time_vector = ts[2:end]\n",
    "\n",
    "\n",
    "# 2. plot φdot,θdot\n",
    "plot(time_vector, φdots, label=\"φdot\", xlabel=\"Time (s)\", ylabel=\"Angular velocity (rad/s)\", title=\"Finite-Difference Estimates of Angular Velocities\", legend=:topright)\n",
    "plot!(time_vector, θdots, label=\"θdot\", color=:red)"
   ]
  },
  {
   "cell_type": "markdown",
   "metadata": {},
   "source": [
    "If we want to control the pendulum, we need access to estimates of $\\dot{\\varphi}$ and $\\dot{\\theta}$ on-the-fly. To get this, we can store the latest values read using `read(furuta.base_angle)` and `read(furuta.arm_angle)` and the corresponding time stamps into variables."
   ]
  },
  {
   "cell_type": "markdown",
   "metadata": {},
   "source": [
    "Q: Write a function `measure(furuta, prev_state, h)` that returns the state as a tuple `(φ,φdot,θ,θdot)`, where the derivatives are finite difference approximations. The `furuta` is used for measuring the new angles, and the new angular velocities can be calculated similar to above, using the new and previous angles and the sampling time. Think about how to handle the first call to the function."
   ]
  },
  {
   "cell_type": "code",
   "execution_count": null,
   "metadata": {},
   "outputs": [],
   "source": [
    "#A:\n",
    "function measure(furuta, prev_state, h)\n",
    "    # Unpack the previous state\n",
    "    (prev_φ, prev_φdot, prev_θ, prev_θdot) = prev_state\n",
    "\n",
    "    # Read the new angles\n",
    "    new_φ = read(furuta.base_angle)\n",
    "    new_θ = read(furuta.arm_angle)\n",
    "\n",
    "    # Initialize φdot and θdot\n",
    "    φdot = 0.0\n",
    "    θdot = 0.0\n",
    "\n",
    "    # Compute φdot if it's not the first call\n",
    "    if prev_φ !== nothing\n",
    "        # Detect discontinuity for φs\n",
    "        if abs(new_φ - prev_φ) > π\n",
    "            if new_φ > prev_φ\n",
    "                φdot = (new_φ - (prev_φ + 2π)) / h\n",
    "            else\n",
    "                φdot = (new_φ + 2π - prev_φ) / h\n",
    "            end\n",
    "        else\n",
    "            φdot = (new_φ - prev_φ) / h\n",
    "        end\n",
    "    end\n",
    "\n",
    "    # Compute θdot if it's not the first call\n",
    "    if prev_θ !== nothing\n",
    "        # Detect discontinuity for θs\n",
    "        if abs(new_θ - prev_θ) > π\n",
    "            if new_θ > prev_θ\n",
    "                θdot = (new_θ - (prev_θ + 2π)) / h\n",
    "            else\n",
    "                θdot = (new_θ + 2π - prev_θ) / h\n",
    "            end\n",
    "        else\n",
    "            θdot = (new_θ - prev_θ) / h\n",
    "        end\n",
    "    end\n",
    "\n",
    "    # Return the new state as a tuple\n",
    "    return (new_φ, φdot, new_θ, θdot)\n",
    "end\n"
   ]
  },
  {
   "cell_type": "markdown",
   "metadata": {},
   "source": [
    "We can now measure the configuration (angles) of the pendulum, and we have a very simple means of estimating the corresponding angular velocities, all built into the `measure` command. Next, we will investigate how the control signal affects the pendulum."
   ]
  },
  {
   "cell_type": "markdown",
   "metadata": {
    "jupyter": {
     "source_hidden": true
    },
    "tags": []
   },
   "source": [
    "## A little bit about DC motors\n",
    "The pendulum base is actuated by a permanent magnet brushless DC motor. Such motors are found in an abundance of application. Permanent magnet DC motors have a number of magnets configured on the rotor (the part that rotates) and a number of coils configured on the stator (the stationary part). The photo below shows what they look like on the inside.\n",
    "\n",
    "![Stator coils](img/lab1-coils.jpeg)\n",
    "\n",
    "The coils and magnets are grouped in groups of 3, making the motor electrically equivalent to the circuit diagram below.\n",
    "\n",
    "![3 phase BLDC motor](img/lab1-3phase.png)\n",
    "\n",
    "The little switches are transistors, and by closing or opening them each phase of the motor can be exposed to either of the voltages $u_{\\min}$, $u_{\\max}$, or it can be left unconnected. Commutating the motor is the act of opening and closing these switches based on the relative position of the stator and the rotor. In a brushed DC motor, this is done automatically by brushes that gain and lose contact as the rotor rotates. In a brushless motor, commutation is instead done in software. This software is part of the firmware of the physical furuta pendulum unit. (Another essential part of the firmware handles communicaton with the PC, making it possible for us to issue control signals and read measurements from the device.)\n",
    "\n",
    "The role of the commutation firmware is to ensure that the right combination of switches are closed for the desired flux interactions between the permanent magnets and the magnetic field arising from running current through the phases. Typically (and indeed here) the desired flux interaction is the one that produces a driving torque, but it could also for instance be desired to commutate the motor such that the rotor is locked relative to the stator.\n",
    "\n",
    "Assuming the commutation switching is correctly handled (the firmware does it for us), the torque between the rotor and stator is proportional to the current drawn by the motor phases. A type of pulse width modulation (PWM) is used to control the phase currents. PWM is a very common technique for turning a binary control signal into an analog one by executing a periodic task where t$u=u_{\\max}$ for a fixed fraction $\\alpha$ of the period and $u=_{\\min}$ during the remainder. If the period is chosen short, it will appear as if the control signal was in fact $\\alpha u_{\\max}+(1-\\alpha)u_{\\min}$. This is for example the technique used to \"dim\" LED lights, that are turned on/off with high frequency rather than actually being dimmed.\n",
    "\n",
    "Sophisticated brushless DC motor controllers often measure the phase current and have feedback controller built into the firmware that tries to drive the phase current toward an external signal $u$. In this setting, the control signal $u$ is a torque reference, but it is often assumed that the feedback loop is fast and well-tuned and therefore that the motor torque in fact is $\\tau=u$."
   ]
  },
  {
   "cell_type": "markdown",
   "metadata": {},
   "source": [
    "## A motor model for the Furuta pendulum\n",
    "Here we use a simpler scheme, where $u$ controls the PWM duty cycle $\\alpha$ directly. The magnitude $|u|$ determines $\\alpha$ and the sign of $u$ determines whether the conrol signal will force turning in the positive or negative direction. The commutation frequency is fixed in the firmware to 20 kHz. From a dynamical modeling perspective, this makes our motor equivalent to a regular brushed DC motor (albeit one with virtual and always optimally positioned brushes), and we can model its electric properties using the standard model of a DC motor:\n",
    "\n",
    "$$\n",
    "u=Ri + L\\frac{di}{dt}+k_v\\frac{d\\varphi}{dt},\n",
    "$$\n",
    "\n",
    "where $L$ is a constant inductance, $R$ is a constant resistance, $u$ is our PWM controlled voltage and $i$ is the associated current. The term $k_v\\dot{\\varphi}$ is known as the back-electromotive force, or back-EMF for short. The motor is also a generator (like the one in old bicycle dynamos) and as it spins, the same flux linkage that produces torque also induces a back-EMF, counteracting the driving voltage. The back-EMF is therefore proportional to $\\dot{\\varphi}$ with a motor-specific proportionality constant $k_v$, often referred to as the back-EMF constant.\n",
    "\n",
    "It follows from Maxwell's laws that the torque $\\tau=k_a i$ that the motor exerts between the stator and rotor is proportional to the electromagnetic flux density generated by the stator coils, and thus proportional to the stator current, through the motor parameter $k_a$, often referred to as the torque constant."
   ]
  },
  {
   "cell_type": "markdown",
   "metadata": {},
   "source": [
    "## Motor model parameter values\n",
    "In control systems lingo, system identification is another word for learning dynamic model parameters from signals (data).\n",
    "\n",
    "The signals from the motor model that are directly available to us are $u$ and $\\varphi$. We can also count in $\\dot{\\varphi}=\\omega$ as being available, through the finite difference estimate that we have introduced earlier. However, without additional instrumentation, the signals $i$ and $\\tau$ cannot be directly measurable."
   ]
  },
  {
   "cell_type": "markdown",
   "metadata": {},
   "source": [
    "Q: Can you write down the transfer functions from $u$ and $\\omega$ to $\\tau$? \n",
    "\n",
    "A: \n",
    "$$\n",
    "\\begin{cases}\n",
    "\\tau &= k_a i \\\\\n",
    "u &= R i + L\\frac{di}{dt}+k_v\\omega\n",
    "\\end{cases} \n",
    "$$\n",
    "Hint: Apply the Laplace transform to the motor model (replacing the operator $d/dt$ with the Laplace variable $s$, assuming the system starts in rest), then solve for $I$. You can write your answer by hand on a paper that you bring to the examination. Even better is if you write it directly in the notebook using LaTeX markdown. You can click on cells with equations in them to get an idea of how, and there is a lot of good LaTeX documentation online to aid you further."
   ]
  },
  {
   "cell_type": "markdown",
   "metadata": {},
   "source": [
    "A:\n",
    "\n",
    "### Summary of Transfer Functions\n",
    "\n",
    "The transfer functions are:\n",
    "$$\n",
    "\n",
    "\\frac{\\tau(s)}{U(s)} = \\frac{k_a}{R + Ls} \n",
    "$$\n",
    "\n",
    "$$\n",
    "\\frac{\\tau(s)}{\\Omega(s)} = -\\frac{k_a k_v}{R + Ls}\n",
    "$$"
   ]
  },
  {
   "cell_type": "markdown",
   "metadata": {},
   "source": [
    "Q: While you are at it, can you also draw a block diagram representation of the dynamics?"
   ]
  },
  {
   "cell_type": "markdown",
   "metadata": {},
   "source": [
    "A:"
   ]
  },
  {
   "cell_type": "markdown",
   "metadata": {},
   "source": [
    "Q: Can you show that the transfer functions from $u$ to $\\tau$ and from $\\omega$ to $\\tau$ are asymptotically stable?"
   ]
  },
  {
   "cell_type": "markdown",
   "metadata": {},
   "source": [
    "A:\n",
    "\n",
    "### Transfer Functions\n",
    "\n",
    "Recall the transfer functions derived previously:\n",
    "\n",
    "1. From $( U(s) )$  to  $( \\tau(s) )$:\n",
    "\n",
    "$$\n",
    "\\frac{\\tau(s)}{U(s)} = \\frac{k_a}{R + Ls}\n",
    "$$\n",
    "\n",
    "2. From $( \\Omega(s) )$ to $( \\tau(s) )$:\n",
    "\n",
    "$$\n",
    "\\frac{\\tau(s)}{\\Omega(s)} = -\\frac{k_a k_v}{R + Ls}\n",
    "$$\n",
    "\n",
    "### Poles of the Transfer Functions\n",
    "\n",
    "The poles of a transfer function are found in the denominator. For both transfer functions, the denominator is \\( R + Ls \\).\n",
    "\n",
    "1. From $( u )$ to $( \\tau )$:\n",
    "   - The pole is at $( s = -\\frac{R}{L} \\)$.\n",
    "\n",
    "2. **From $( \\omega )$  to $( \\tau )$:\n",
    "   - The pole is at $( s = -\\frac{R}{L} \\)$.\n",
    "\n",
    "### Stability Analysis\n",
    "\n",
    "A system is asymptotically stable if all poles of its transfer function have negative real parts. \n",
    "\n",
    "- In both cases, the pole \\( s = -\\frac{R}{L} \\) has a negative real part if \\( R > 0 \\) and \\( L > 0 \\) (which is generally true for physical systems where resistance and inductance are positive).\n",
    "\n",
    "### Conclusion\n",
    "\n",
    "Since both transfer functions have their poles located in the left half of the complex plane (i.e., \\( s = -\\frac{R}{L} \\)), we can conclude that:\n",
    "\n",
    "- The transfer function from \\( u \\) to \\( \\tau \\) is asymptotically stable.\n",
    "- The transfer function from \\( \\omega \\) to \\( \\tau \\) is also asymptotically stable.\n",
    "\n",
    "### Summary\n",
    "\n",
    "Thus, both transfer functions are asymptotically stable under the conditions that \\( R > 0 \\) and \\( L > 0 \\).\n"
   ]
  },
  {
   "cell_type": "code",
   "execution_count": null,
   "metadata": {},
   "outputs": [],
   "source": []
  },
  {
   "cell_type": "markdown",
   "metadata": {},
   "source": [
    "Q: The datasheet of the motor reveils that $R=0.13~\\Omega$, while $L=2\\cdot 10^{-5}$ H. How many seconds is the motor time constant $T$?"
   ]
  },
  {
   "cell_type": "markdown",
   "metadata": {},
   "source": [
    "A: "
   ]
  },
  {
   "cell_type": "markdown",
   "metadata": {},
   "source": [
    "Q: In the upcoming labs we will treat `u` as being directly proportional to the motor torque. Under what circumstances (if any) is this a fair approximaton? Can we decrease the approximation error if we have access to $\\dot{\\varphi}$ and $k_v$? What about if we have access to measurements of the current $i$?"
   ]
  },
  {
   "cell_type": "markdown",
   "metadata": {},
   "source": [
    "A: "
   ]
  },
  {
   "cell_type": "markdown",
   "metadata": {},
   "source": [
    "**Make sure you have completed all cells above marked with \"A\" with either text or code, and bring this notebook to the lab examination.** If you get stuck along the way, collaborate with fellow students, search for information online, and don't hesitate to contact the instructors."
   ]
  },
  {
   "cell_type": "markdown",
   "metadata": {
    "tags": []
   },
   "source": [
    "## Bonus\n",
    "Now you have all you need to measure (estimate) the state of the Furuta pendulum, and some insight into what the control signal does. Based on this, try designing a controller that moves the base from wherever it happens to be to the angle $\\varphi=\\pi/2$ rad. Use the measurement of $\\varphi$ and possibly the estimate of $\\dot{\\varphi}$ for this, and think about how to handle the discontinuiety of the angle measurement. How fast can you make the move without excessively overshooting the reference angle? How small stationary error (difference between the refernce angle and where the base ends up) can you achieve? You can use any home-made control strategy you like. If you have taken a control course previously, you may of course use an established one as well."
   ]
  },
  {
   "cell_type": "code",
   "execution_count": null,
   "metadata": {},
   "outputs": [],
   "source": [
    "#A:"
   ]
  }
 ],
 "metadata": {
  "kernelspec": {
   "display_name": "Julia 1.10.5",
   "language": "julia",
   "name": "julia-1.10"
  },
  "language_info": {
   "file_extension": ".jl",
   "mimetype": "application/julia",
   "name": "julia",
   "version": "1.10.5"
  }
 },
 "nbformat": 4,
 "nbformat_minor": 4
}
